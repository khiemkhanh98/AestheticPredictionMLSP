{
  "nbformat": 4,
  "nbformat_minor": 0,
  "metadata": {
    "colab": {
      "name": "DeepCloak.ipynb",
      "provenance": [],
      "collapsed_sections": []
    },
    "kernelspec": {
      "name": "python3",
      "display_name": "Python 3"
    },
    "language_info": {
      "name": "python"
    },
    "accelerator": "GPU",
    "widgets": {
      "application/vnd.jupyter.widget-state+json": {
        "b3e336084b824f05bd5ff43d7d3db4c2": {
          "model_module": "@jupyter-widgets/controls",
          "model_name": "HBoxModel",
          "model_module_version": "1.5.0",
          "state": {
            "_view_name": "HBoxView",
            "_dom_classes": [],
            "_model_name": "HBoxModel",
            "_view_module": "@jupyter-widgets/controls",
            "_model_module_version": "1.5.0",
            "_view_count": null,
            "_view_module_version": "1.5.0",
            "box_style": "",
            "layout": "IPY_MODEL_f9e5a486accd4d318bffda22ebbe2e51",
            "_model_module": "@jupyter-widgets/controls",
            "children": [
              "IPY_MODEL_258168f0221e4e70a6b28ba04355b2d4",
              "IPY_MODEL_3bb5ac0a07ec41299d536f758758597b",
              "IPY_MODEL_8f928a8a07fc422da7e4b39e2ced65ac"
            ]
          }
        },
        "f9e5a486accd4d318bffda22ebbe2e51": {
          "model_module": "@jupyter-widgets/base",
          "model_name": "LayoutModel",
          "model_module_version": "1.2.0",
          "state": {
            "_view_name": "LayoutView",
            "grid_template_rows": null,
            "right": null,
            "justify_content": null,
            "_view_module": "@jupyter-widgets/base",
            "overflow": null,
            "_model_module_version": "1.2.0",
            "_view_count": null,
            "flex_flow": null,
            "width": null,
            "min_width": null,
            "border": null,
            "align_items": null,
            "bottom": null,
            "_model_module": "@jupyter-widgets/base",
            "top": null,
            "grid_column": null,
            "overflow_y": null,
            "overflow_x": null,
            "grid_auto_flow": null,
            "grid_area": null,
            "grid_template_columns": null,
            "flex": null,
            "_model_name": "LayoutModel",
            "justify_items": null,
            "grid_row": null,
            "max_height": null,
            "align_content": null,
            "visibility": null,
            "align_self": null,
            "height": null,
            "min_height": null,
            "padding": null,
            "grid_auto_rows": null,
            "grid_gap": null,
            "max_width": null,
            "order": null,
            "_view_module_version": "1.2.0",
            "grid_template_areas": null,
            "object_position": null,
            "object_fit": null,
            "grid_auto_columns": null,
            "margin": null,
            "display": null,
            "left": null
          }
        },
        "258168f0221e4e70a6b28ba04355b2d4": {
          "model_module": "@jupyter-widgets/controls",
          "model_name": "HTMLModel",
          "model_module_version": "1.5.0",
          "state": {
            "_view_name": "HTMLView",
            "style": "IPY_MODEL_06c5ab893ee94ac0956e3cc9dd07d71a",
            "_dom_classes": [],
            "description": "",
            "_model_name": "HTMLModel",
            "placeholder": "​",
            "_view_module": "@jupyter-widgets/controls",
            "_model_module_version": "1.5.0",
            "value": "",
            "_view_count": null,
            "_view_module_version": "1.5.0",
            "description_tooltip": null,
            "_model_module": "@jupyter-widgets/controls",
            "layout": "IPY_MODEL_895b7aa0a5ac409f8c9444792baa6732"
          }
        },
        "3bb5ac0a07ec41299d536f758758597b": {
          "model_module": "@jupyter-widgets/controls",
          "model_name": "FloatProgressModel",
          "model_module_version": "1.5.0",
          "state": {
            "_view_name": "ProgressView",
            "style": "IPY_MODEL_b8ff6534dff9414ca11bf6596fd9d056",
            "_dom_classes": [],
            "description": "",
            "_model_name": "FloatProgressModel",
            "bar_style": "success",
            "max": 170498071,
            "_view_module": "@jupyter-widgets/controls",
            "_model_module_version": "1.5.0",
            "value": 170498071,
            "_view_count": null,
            "_view_module_version": "1.5.0",
            "orientation": "horizontal",
            "min": 0,
            "description_tooltip": null,
            "_model_module": "@jupyter-widgets/controls",
            "layout": "IPY_MODEL_498534568d2f4bef87c30ba6315a63a9"
          }
        },
        "8f928a8a07fc422da7e4b39e2ced65ac": {
          "model_module": "@jupyter-widgets/controls",
          "model_name": "HTMLModel",
          "model_module_version": "1.5.0",
          "state": {
            "_view_name": "HTMLView",
            "style": "IPY_MODEL_7f67804170c04c28812d2558a84b034a",
            "_dom_classes": [],
            "description": "",
            "_model_name": "HTMLModel",
            "placeholder": "​",
            "_view_module": "@jupyter-widgets/controls",
            "_model_module_version": "1.5.0",
            "value": " 170499072/? [00:11&lt;00:00, 16852529.58it/s]",
            "_view_count": null,
            "_view_module_version": "1.5.0",
            "description_tooltip": null,
            "_model_module": "@jupyter-widgets/controls",
            "layout": "IPY_MODEL_e476a57909e842ccbcc25e608c554048"
          }
        },
        "06c5ab893ee94ac0956e3cc9dd07d71a": {
          "model_module": "@jupyter-widgets/controls",
          "model_name": "DescriptionStyleModel",
          "model_module_version": "1.5.0",
          "state": {
            "_view_name": "StyleView",
            "_model_name": "DescriptionStyleModel",
            "description_width": "",
            "_view_module": "@jupyter-widgets/base",
            "_model_module_version": "1.5.0",
            "_view_count": null,
            "_view_module_version": "1.2.0",
            "_model_module": "@jupyter-widgets/controls"
          }
        },
        "895b7aa0a5ac409f8c9444792baa6732": {
          "model_module": "@jupyter-widgets/base",
          "model_name": "LayoutModel",
          "model_module_version": "1.2.0",
          "state": {
            "_view_name": "LayoutView",
            "grid_template_rows": null,
            "right": null,
            "justify_content": null,
            "_view_module": "@jupyter-widgets/base",
            "overflow": null,
            "_model_module_version": "1.2.0",
            "_view_count": null,
            "flex_flow": null,
            "width": null,
            "min_width": null,
            "border": null,
            "align_items": null,
            "bottom": null,
            "_model_module": "@jupyter-widgets/base",
            "top": null,
            "grid_column": null,
            "overflow_y": null,
            "overflow_x": null,
            "grid_auto_flow": null,
            "grid_area": null,
            "grid_template_columns": null,
            "flex": null,
            "_model_name": "LayoutModel",
            "justify_items": null,
            "grid_row": null,
            "max_height": null,
            "align_content": null,
            "visibility": null,
            "align_self": null,
            "height": null,
            "min_height": null,
            "padding": null,
            "grid_auto_rows": null,
            "grid_gap": null,
            "max_width": null,
            "order": null,
            "_view_module_version": "1.2.0",
            "grid_template_areas": null,
            "object_position": null,
            "object_fit": null,
            "grid_auto_columns": null,
            "margin": null,
            "display": null,
            "left": null
          }
        },
        "b8ff6534dff9414ca11bf6596fd9d056": {
          "model_module": "@jupyter-widgets/controls",
          "model_name": "ProgressStyleModel",
          "model_module_version": "1.5.0",
          "state": {
            "_view_name": "StyleView",
            "_model_name": "ProgressStyleModel",
            "description_width": "",
            "_view_module": "@jupyter-widgets/base",
            "_model_module_version": "1.5.0",
            "_view_count": null,
            "_view_module_version": "1.2.0",
            "bar_color": null,
            "_model_module": "@jupyter-widgets/controls"
          }
        },
        "498534568d2f4bef87c30ba6315a63a9": {
          "model_module": "@jupyter-widgets/base",
          "model_name": "LayoutModel",
          "model_module_version": "1.2.0",
          "state": {
            "_view_name": "LayoutView",
            "grid_template_rows": null,
            "right": null,
            "justify_content": null,
            "_view_module": "@jupyter-widgets/base",
            "overflow": null,
            "_model_module_version": "1.2.0",
            "_view_count": null,
            "flex_flow": null,
            "width": null,
            "min_width": null,
            "border": null,
            "align_items": null,
            "bottom": null,
            "_model_module": "@jupyter-widgets/base",
            "top": null,
            "grid_column": null,
            "overflow_y": null,
            "overflow_x": null,
            "grid_auto_flow": null,
            "grid_area": null,
            "grid_template_columns": null,
            "flex": null,
            "_model_name": "LayoutModel",
            "justify_items": null,
            "grid_row": null,
            "max_height": null,
            "align_content": null,
            "visibility": null,
            "align_self": null,
            "height": null,
            "min_height": null,
            "padding": null,
            "grid_auto_rows": null,
            "grid_gap": null,
            "max_width": null,
            "order": null,
            "_view_module_version": "1.2.0",
            "grid_template_areas": null,
            "object_position": null,
            "object_fit": null,
            "grid_auto_columns": null,
            "margin": null,
            "display": null,
            "left": null
          }
        },
        "7f67804170c04c28812d2558a84b034a": {
          "model_module": "@jupyter-widgets/controls",
          "model_name": "DescriptionStyleModel",
          "model_module_version": "1.5.0",
          "state": {
            "_view_name": "StyleView",
            "_model_name": "DescriptionStyleModel",
            "description_width": "",
            "_view_module": "@jupyter-widgets/base",
            "_model_module_version": "1.5.0",
            "_view_count": null,
            "_view_module_version": "1.2.0",
            "_model_module": "@jupyter-widgets/controls"
          }
        },
        "e476a57909e842ccbcc25e608c554048": {
          "model_module": "@jupyter-widgets/base",
          "model_name": "LayoutModel",
          "model_module_version": "1.2.0",
          "state": {
            "_view_name": "LayoutView",
            "grid_template_rows": null,
            "right": null,
            "justify_content": null,
            "_view_module": "@jupyter-widgets/base",
            "overflow": null,
            "_model_module_version": "1.2.0",
            "_view_count": null,
            "flex_flow": null,
            "width": null,
            "min_width": null,
            "border": null,
            "align_items": null,
            "bottom": null,
            "_model_module": "@jupyter-widgets/base",
            "top": null,
            "grid_column": null,
            "overflow_y": null,
            "overflow_x": null,
            "grid_auto_flow": null,
            "grid_area": null,
            "grid_template_columns": null,
            "flex": null,
            "_model_name": "LayoutModel",
            "justify_items": null,
            "grid_row": null,
            "max_height": null,
            "align_content": null,
            "visibility": null,
            "align_self": null,
            "height": null,
            "min_height": null,
            "padding": null,
            "grid_auto_rows": null,
            "grid_gap": null,
            "max_width": null,
            "order": null,
            "_view_module_version": "1.2.0",
            "grid_template_areas": null,
            "object_position": null,
            "object_fit": null,
            "grid_auto_columns": null,
            "margin": null,
            "display": null,
            "left": null
          }
        }
      }
    }
  },
  "cells": [
    {
      "cell_type": "code",
      "metadata": {
        "id": "WdOjh0EKINim",
        "colab": {
          "base_uri": "https://localhost:8080/"
        },
        "outputId": "728649a5-5a2f-4d99-e132-d0b374c17374"
      },
      "source": [
        "from google.colab import drive\n",
        "\n",
        "drive.mount('/content/gdrive')\n",
        "\n",
        "!mkdir /content/data\n",
        "%cd /content/data\n",
        "!wget http://cs231n.stanford.edu/tiny-imagenet-200.zip\n",
        "!unzip -q tiny-imagenet-200.zip "
      ],
      "execution_count": null,
      "outputs": [
        {
          "output_type": "stream",
          "name": "stdout",
          "text": [
            "Mounted at /content/gdrive\n",
            "/content/data\n",
            "--2021-10-07 12:49:04--  http://cs231n.stanford.edu/tiny-imagenet-200.zip\n",
            "Resolving cs231n.stanford.edu (cs231n.stanford.edu)... 171.64.68.10\n",
            "Connecting to cs231n.stanford.edu (cs231n.stanford.edu)|171.64.68.10|:80... connected.\n",
            "HTTP request sent, awaiting response... 200 OK\n",
            "Length: 248100043 (237M) [application/zip]\n",
            "Saving to: ‘tiny-imagenet-200.zip’\n",
            "\n",
            "tiny-imagenet-200.z 100%[===================>] 236.61M  16.4MB/s    in 16s     \n",
            "\n",
            "2021-10-07 12:49:20 (15.2 MB/s) - ‘tiny-imagenet-200.zip’ saved [248100043/248100043]\n",
            "\n"
          ]
        }
      ]
    },
    {
      "cell_type": "code",
      "metadata": {
        "colab": {
          "base_uri": "https://localhost:8080/"
        },
        "id": "Zc2IWkZyNqW1",
        "outputId": "16e74377-0ac1-42a1-975f-ea20f23caaab"
      },
      "source": [
        "import time\n",
        "import copy\n",
        "import numpy as np\n",
        "import matplotlib.pyplot as plt\n",
        "import os\n",
        "os.environ['CUDA_LAUNCH_BLOCKING'] = \"1\"\n",
        "\n",
        "import torch\n",
        "torch.manual_seed(2)\n",
        "import torchvision\n",
        "import torch.nn as nn\n",
        "import torch.optim as optim\n",
        "import torchvision.transforms as transforms\n",
        "from torch.utils.data import DataLoader, SubsetRandomSampler\n",
        "import torchvision.models as models\n",
        "!pip install torchinfo\n",
        "!pip install torchattacks\n",
        "from torchinfo import summary\n",
        "from torchvision.models.resnet import _resnet,BasicBlock\n",
        "\n",
        "import torchvision.utils"
      ],
      "execution_count": null,
      "outputs": [
        {
          "output_type": "stream",
          "name": "stdout",
          "text": [
            "Collecting torchinfo\n",
            "  Downloading torchinfo-1.5.3-py3-none-any.whl (19 kB)\n",
            "Installing collected packages: torchinfo\n",
            "Successfully installed torchinfo-1.5.3\n",
            "Collecting torchattacks\n",
            "  Downloading torchattacks-3.2.0-py3-none-any.whl (101 kB)\n",
            "\u001b[K     |████████████████████████████████| 101 kB 8.3 MB/s \n",
            "\u001b[?25hInstalling collected packages: torchattacks\n",
            "Successfully installed torchattacks-3.2.0\n"
          ]
        }
      ]
    },
    {
      "cell_type": "code",
      "metadata": {
        "id": "W0ORfhZLSAb4"
      },
      "source": [
        "normalize = transforms.Normalize(mean=[0.485, 0.456, 0.406],\n",
        "                                     std=[0.229, 0.224, 0.225])\n",
        "transform = transforms.Compose([ \n",
        "    transforms.Resize((224)), \n",
        "    transforms.ToTensor(),\n",
        "    normalize\n",
        "])\n",
        "\n",
        "dataset = torchvision.datasets.ImageFolder('/content/data/tiny-imagenet-200/train', transform=transform)\n",
        "#split the data\n",
        "train_data, val_data, test_data = torch.utils.data.random_split(dataset, [80000, 10000, 10000], generator=torch.Generator().manual_seed(42))  ##set seed to ensure consistency\n",
        "batch_size = 32\n",
        "train_loader = DataLoader(train_data, batch_size=batch_size, num_workers=2, sampler = SubsetRandomSampler(range(80000)))\n",
        "val_loader = DataLoader(val_data, batch_size=batch_size, shuffle=False,num_workers=2)\n",
        "test_loader = DataLoader(test_data, batch_size=batch_size, shuffle=False,num_workers=2)"
      ],
      "execution_count": null,
      "outputs": []
    },
    {
      "cell_type": "code",
      "metadata": {
        "colab": {
          "base_uri": "https://localhost:8080/",
          "height": 116,
          "referenced_widgets": [
            "b3e336084b824f05bd5ff43d7d3db4c2",
            "f9e5a486accd4d318bffda22ebbe2e51",
            "258168f0221e4e70a6b28ba04355b2d4",
            "3bb5ac0a07ec41299d536f758758597b",
            "8f928a8a07fc422da7e4b39e2ced65ac",
            "06c5ab893ee94ac0956e3cc9dd07d71a",
            "895b7aa0a5ac409f8c9444792baa6732",
            "b8ff6534dff9414ca11bf6596fd9d056",
            "498534568d2f4bef87c30ba6315a63a9",
            "7f67804170c04c28812d2558a84b034a",
            "e476a57909e842ccbcc25e608c554048"
          ]
        },
        "id": "NKMGeB11qZW1",
        "outputId": "ec6d6d79-3206-4cee-e15a-b0738010408d"
      },
      "source": [
        "transform2 = transforms.Compose([\n",
        "    transforms.ToTensor(),\n",
        "    transforms.Normalize((0.4914, 0.4822, 0.4465), (0.2023, 0.1994, 0.2010)),\n",
        "])\n",
        "\n",
        "transform1 = transforms.Compose([\n",
        "    transforms.ToTensor(),\n",
        "    transforms.Normalize((0.4914, 0.4822, 0.4465), (0.2023, 0.1994, 0.2010)),\n",
        "])\n",
        "\n",
        "\n",
        "trainset = torchvision.datasets.CIFAR10(\n",
        "    root='./data', train=True, download=True, transform=transform1)\n",
        "train_loader = torch.utils.data.DataLoader(\n",
        "    trainset, batch_size=128, shuffle=True, num_workers=2)\n",
        "\n",
        "valset = torchvision.datasets.CIFAR10(\n",
        "    root='./data', train=False, download=True, transform=transform2)\n",
        "val_loader = torch.utils.data.DataLoader(\n",
        "    valset, batch_size=100, shuffle=False, num_workers=2, sampler = SubsetRandomSampler(range(5000)))\n",
        "\n",
        "testset = torchvision.datasets.CIFAR10(\n",
        "    root='./data', train=False, download=True, transform=transform2)\n",
        "test_loader = torch.utils.data.DataLoader(\n",
        "    testset, batch_size=100, shuffle=False, num_workers=2, sampler = SubsetRandomSampler(range(5000,10000)))\n",
        "\n",
        "classes = ('plane', 'car', 'bird', 'cat', 'deer',\n",
        "           'dog', 'frog', 'horse', 'ship', 'truck')"
      ],
      "execution_count": null,
      "outputs": [
        {
          "output_type": "stream",
          "name": "stdout",
          "text": [
            "Downloading https://www.cs.toronto.edu/~kriz/cifar-10-python.tar.gz to ./data/cifar-10-python.tar.gz\n"
          ]
        },
        {
          "output_type": "display_data",
          "data": {
            "application/vnd.jupyter.widget-view+json": {
              "model_id": "b3e336084b824f05bd5ff43d7d3db4c2",
              "version_minor": 0,
              "version_major": 2
            },
            "text/plain": [
              "  0%|          | 0/170498071 [00:00<?, ?it/s]"
            ]
          },
          "metadata": {}
        },
        {
          "output_type": "stream",
          "name": "stdout",
          "text": [
            "Extracting ./data/cifar-10-python.tar.gz to ./data\n",
            "Files already downloaded and verified\n",
            "Files already downloaded and verified\n"
          ]
        }
      ]
    },
    {
      "cell_type": "code",
      "metadata": {
        "id": "DUjKynrDJhi3"
      },
      "source": [
        "from torch.nn import Conv2d,AvgPool2d,Linear,Sequential,Dropout,BatchNorm2d,ModuleList,BatchNorm1d\n",
        "import torch.nn.functional as F\n",
        "import numpy as np\n",
        "import math\n",
        "from torch.autograd import Variable\n",
        "\n",
        "class Base(nn.Module):\n",
        "    def freeze(self):\n",
        "        for param in self.base_model.parameters():\n",
        "                param.requires_grad = False\n",
        "    \n",
        "    def unfreeze(self):\n",
        "        for param in self.base_model.parameters():\n",
        "                param.requires_grad = True\n",
        "    \n",
        "    def attach_fea_out(self,classname,input,output):\n",
        "        self.features.append(output)\n",
        "\n",
        "    def attach_fea_in(self,classname,input,output):\n",
        "        self.features.append(input[0])\n",
        "\n",
        "    def __init__(self,trainable = True,attention=False):\n",
        "        super(Base,self).__init__()\n",
        "        self.features = []\n",
        "        self.channel_size = []\n",
        "        \n",
        "        self.base_model = models.resnet18(pretrained=False)\n",
        "        used_blocks = ['layer1', 'layer2','layer3','layer4']\n",
        "        unused_blocks = ['avgpool','fc']\n",
        "\n",
        "        for block in used_blocks:\n",
        "            getattr(self.base_model,block).register_forward_hook(self.attach_fea_out)\n",
        "\n",
        "\n",
        "        for block in unused_blocks:\n",
        "             setattr(self.base_model,block,nn.Identity())\n",
        "        \n",
        "        if not trainable:\n",
        "            self.freeze()\n",
        "\n",
        "        fake_img = torch.rand(1,3,256,256) ## pass fake img to the model to get the channel size of each inception block\n",
        "        self.base_model(fake_img)\n",
        "        self.channel_size = [block.size()[1] for block in self.features]\n",
        "        self.features = []\n",
        "\n",
        "    def forward(self,img):\n",
        "        self.base_model(img)\n",
        "\n",
        "    def get_MLSP(self,img,feature_type,resize = True):\n",
        "        self.base_model(img)\n",
        "        if resize:\n",
        "            print(resize)\n",
        "            if feature_type == 'narrow':\n",
        "                MLSP = [F.adaptive_avg_pool2d(block, (1, 1)) for block in self.features]\n",
        "                for i in range(len(MLSP)):\n",
        "                    MLSP[i] = MLSP[i].squeeze(2).squeeze(2)\n",
        "\n",
        "            if feature_type == 'wide':\n",
        "                MLSP = [F.interpolate(block,mode = 'bilinear', size = 7) for block in self.features]\n",
        "            \n",
        "            MLSP = torch.cat(MLSP,dim = 1)\n",
        "            self.features = []\n",
        "        else:\n",
        "            MLSP = self.features\n",
        "            self.features = []\n",
        "        return MLSP\n",
        "\n",
        "\n",
        "class head_block():\n",
        "    def conv_block(self,inc,outc,ker,padding = 1,avgpool = False):\n",
        "        modules = []\n",
        "        modules.append(nn.Dropout(0.5))\n",
        "        if avgpool:\n",
        "            modules.append(AvgPool2d(3,1,1))\n",
        "        modules.append(Conv2d(inc,outc,ker,padding = padding))\n",
        "        modules.append(nn.BatchNorm2d(outc))\n",
        "        modules.append(nn.ReLU())\n",
        "        return Sequential(*modules)\n",
        "\n",
        "    def mlsp_cnn_gap_attn(self,num_channels,attention=True):\n",
        "        blocks = []\n",
        "        scale = 1\n",
        "        all_channels = np.sum(num_channels)\n",
        "        for num_channel in num_channels:\n",
        "            blocks.append(Sequential(#self.conv_block(num_channel,num_channel//scale,1,0),\n",
        "                                     #self.conv_block(num_channel//scale,num_channel//scale,3,1),\n",
        "                                     CBAM(num_channel//scale,reduction_ratio=16)\n",
        "                          ))\n",
        "\n",
        "        return ModuleList(blocks)\n",
        "\n",
        "\n",
        "class Head(nn.Module):\n",
        "    def __init__(self,head_type,num_channel):\n",
        "        super(Head, self).__init__()\n",
        "        if head_type == 'mlsp_cnn_gap_attn':\n",
        "            self.head = getattr(head_block(),head_type)(num_channel)\n",
        "        self.head_type = head_type\n",
        "        self.num_ch = num_channel\n",
        "        self.dense = Sequential(Linear(960,1000))\n",
        "    def forward(self,features,masks = None):\n",
        "        if self.head_type == 'mlsp_gap':\n",
        "            x = torch.cat([F.adaptive_avg_pool2d(feature, (1, 1)) for feature in features],dim=1)\n",
        "        else:\n",
        "            x = torch.cat([F.adaptive_avg_pool2d(block(feature)+feature, (1, 1)) for feature,block in zip(features,self.head)],dim=1)\n",
        "        x = torch.flatten(x, 1)\n",
        "        # if masks is not None:\n",
        "        #     if isinstance(feas,list):\n",
        "        #         for i,(fea,mask) in enumerate(zip(feas,masks)):\n",
        "        #             print(fea.shape,mask.shape)\n",
        "        #             feas[i] = mask*fea\n",
        "        #     else:\n",
        "        #         feas = mask*feas\n",
        "        if masks is not None:\n",
        "            x = x*masks\n",
        "        x = self.dense(x)\n",
        "        return x\n",
        "\n",
        "class Fmodel(nn.Module):\n",
        "    def __init__(self, head_type):\n",
        "        super(Fmodel,self).__init__()\n",
        "        self.bmodel = Base()\n",
        "        self.head = Head(head_type,self.bmodel.channel_size)\n",
        "        self.feature_type = 'narrow'    \n",
        "        self.resize = False\n",
        "        \n",
        "    def forward(self,img, masks = None):\n",
        "        x = self.bmodel.get_MLSP(img,self.feature_type,self.resize)\n",
        "        x = self.head(x,masks)\n",
        "        return x\n",
        "\n",
        "    def unfreeze(self):\n",
        "        self.bmodel.unfreeze()\n",
        "    \n",
        "    def freeze(self):\n",
        "        self.bmodel.freeze()\n",
        "\n",
        "\n"
      ],
      "execution_count": null,
      "outputs": []
    },
    {
      "cell_type": "markdown",
      "metadata": {
        "id": "ARiAQGKAgJHX"
      },
      "source": [
        "This will be the 3 model configs that you should train and generate the attacks on.  "
      ]
    },
    {
      "cell_type": "code",
      "metadata": {
        "id": "1LKCJRrq0nrx",
        "colab": {
          "base_uri": "https://localhost:8080/",
          "height": 370
        },
        "outputId": "055a83b2-e77c-4260-e5a4-09978f0d8708"
      },
      "source": [
        "model = Fmodel('mlsp_gap')\n",
        "model(torch.rand((2,3,224,224)))\n",
        "device = torch.device(\"cuda:0\" if torch.cuda.is_available() else \"cpu\")\n",
        "model.to(device)\n",
        "# model.load_state_dict(torch.load('/content/gdrive/MyDrive/cifar10/saved_model/mlsp_base.pt'))\n",
        "model.load_state_dict(torch.load('/content/gdrive/MyDrive/imagenet/saved_model/mlsp_gap_attack.pt'))"
      ],
      "execution_count": null,
      "outputs": [
        {
          "output_type": "error",
          "ename": "RuntimeError",
          "evalue": "ignored",
          "traceback": [
            "\u001b[0;31m---------------------------------------------------------------------------\u001b[0m",
            "\u001b[0;31mRuntimeError\u001b[0m                              Traceback (most recent call last)",
            "\u001b[0;32m<ipython-input-16-6bcba552f7c2>\u001b[0m in \u001b[0;36m<module>\u001b[0;34m()\u001b[0m\n\u001b[1;32m      2\u001b[0m \u001b[0mmodel\u001b[0m\u001b[0;34m(\u001b[0m\u001b[0mtorch\u001b[0m\u001b[0;34m.\u001b[0m\u001b[0mrand\u001b[0m\u001b[0;34m(\u001b[0m\u001b[0;34m(\u001b[0m\u001b[0;36m2\u001b[0m\u001b[0;34m,\u001b[0m\u001b[0;36m3\u001b[0m\u001b[0;34m,\u001b[0m\u001b[0;36m224\u001b[0m\u001b[0;34m,\u001b[0m\u001b[0;36m224\u001b[0m\u001b[0;34m)\u001b[0m\u001b[0;34m)\u001b[0m\u001b[0;34m)\u001b[0m\u001b[0;34m\u001b[0m\u001b[0;34m\u001b[0m\u001b[0m\n\u001b[1;32m      3\u001b[0m \u001b[0mdevice\u001b[0m \u001b[0;34m=\u001b[0m \u001b[0mtorch\u001b[0m\u001b[0;34m.\u001b[0m\u001b[0mdevice\u001b[0m\u001b[0;34m(\u001b[0m\u001b[0;34m\"cuda:0\"\u001b[0m \u001b[0;32mif\u001b[0m \u001b[0mtorch\u001b[0m\u001b[0;34m.\u001b[0m\u001b[0mcuda\u001b[0m\u001b[0;34m.\u001b[0m\u001b[0mis_available\u001b[0m\u001b[0;34m(\u001b[0m\u001b[0;34m)\u001b[0m \u001b[0;32melse\u001b[0m \u001b[0;34m\"cpu\"\u001b[0m\u001b[0;34m)\u001b[0m\u001b[0;34m\u001b[0m\u001b[0;34m\u001b[0m\u001b[0m\n\u001b[0;32m----> 4\u001b[0;31m \u001b[0mmodel\u001b[0m\u001b[0;34m.\u001b[0m\u001b[0mto\u001b[0m\u001b[0;34m(\u001b[0m\u001b[0mdevice\u001b[0m\u001b[0;34m)\u001b[0m\u001b[0;34m\u001b[0m\u001b[0;34m\u001b[0m\u001b[0m\n\u001b[0m\u001b[1;32m      5\u001b[0m \u001b[0;31m# model.load_state_dict(torch.load('/content/gdrive/MyDrive/cifar10/saved_model/mlsp_base.pt'))\u001b[0m\u001b[0;34m\u001b[0m\u001b[0;34m\u001b[0m\u001b[0;34m\u001b[0m\u001b[0m\n\u001b[1;32m      6\u001b[0m \u001b[0mmodel\u001b[0m\u001b[0;34m.\u001b[0m\u001b[0mload_state_dict\u001b[0m\u001b[0;34m(\u001b[0m\u001b[0mtorch\u001b[0m\u001b[0;34m.\u001b[0m\u001b[0mload\u001b[0m\u001b[0;34m(\u001b[0m\u001b[0;34m'/content/gdrive/MyDrive/imagenet/saved_model/mlsp_gap_attack.pt'\u001b[0m\u001b[0;34m)\u001b[0m\u001b[0;34m)\u001b[0m\u001b[0;34m\u001b[0m\u001b[0;34m\u001b[0m\u001b[0m\n",
            "\u001b[0;32m/usr/local/lib/python3.7/dist-packages/torch/nn/modules/module.py\u001b[0m in \u001b[0;36mto\u001b[0;34m(self, *args, **kwargs)\u001b[0m\n\u001b[1;32m    850\u001b[0m             \u001b[0;32mreturn\u001b[0m \u001b[0mt\u001b[0m\u001b[0;34m.\u001b[0m\u001b[0mto\u001b[0m\u001b[0;34m(\u001b[0m\u001b[0mdevice\u001b[0m\u001b[0;34m,\u001b[0m \u001b[0mdtype\u001b[0m \u001b[0;32mif\u001b[0m \u001b[0mt\u001b[0m\u001b[0;34m.\u001b[0m\u001b[0mis_floating_point\u001b[0m\u001b[0;34m(\u001b[0m\u001b[0;34m)\u001b[0m \u001b[0;32mor\u001b[0m \u001b[0mt\u001b[0m\u001b[0;34m.\u001b[0m\u001b[0mis_complex\u001b[0m\u001b[0;34m(\u001b[0m\u001b[0;34m)\u001b[0m \u001b[0;32melse\u001b[0m \u001b[0;32mNone\u001b[0m\u001b[0;34m,\u001b[0m \u001b[0mnon_blocking\u001b[0m\u001b[0;34m)\u001b[0m\u001b[0;34m\u001b[0m\u001b[0;34m\u001b[0m\u001b[0m\n\u001b[1;32m    851\u001b[0m \u001b[0;34m\u001b[0m\u001b[0m\n\u001b[0;32m--> 852\u001b[0;31m         \u001b[0;32mreturn\u001b[0m \u001b[0mself\u001b[0m\u001b[0;34m.\u001b[0m\u001b[0m_apply\u001b[0m\u001b[0;34m(\u001b[0m\u001b[0mconvert\u001b[0m\u001b[0;34m)\u001b[0m\u001b[0;34m\u001b[0m\u001b[0;34m\u001b[0m\u001b[0m\n\u001b[0m\u001b[1;32m    853\u001b[0m \u001b[0;34m\u001b[0m\u001b[0m\n\u001b[1;32m    854\u001b[0m     def register_backward_hook(\n",
            "\u001b[0;32m/usr/local/lib/python3.7/dist-packages/torch/nn/modules/module.py\u001b[0m in \u001b[0;36m_apply\u001b[0;34m(self, fn)\u001b[0m\n\u001b[1;32m    528\u001b[0m     \u001b[0;32mdef\u001b[0m \u001b[0m_apply\u001b[0m\u001b[0;34m(\u001b[0m\u001b[0mself\u001b[0m\u001b[0;34m,\u001b[0m \u001b[0mfn\u001b[0m\u001b[0;34m)\u001b[0m\u001b[0;34m:\u001b[0m\u001b[0;34m\u001b[0m\u001b[0;34m\u001b[0m\u001b[0m\n\u001b[1;32m    529\u001b[0m         \u001b[0;32mfor\u001b[0m \u001b[0mmodule\u001b[0m \u001b[0;32min\u001b[0m \u001b[0mself\u001b[0m\u001b[0;34m.\u001b[0m\u001b[0mchildren\u001b[0m\u001b[0;34m(\u001b[0m\u001b[0;34m)\u001b[0m\u001b[0;34m:\u001b[0m\u001b[0;34m\u001b[0m\u001b[0;34m\u001b[0m\u001b[0m\n\u001b[0;32m--> 530\u001b[0;31m             \u001b[0mmodule\u001b[0m\u001b[0;34m.\u001b[0m\u001b[0m_apply\u001b[0m\u001b[0;34m(\u001b[0m\u001b[0mfn\u001b[0m\u001b[0;34m)\u001b[0m\u001b[0;34m\u001b[0m\u001b[0;34m\u001b[0m\u001b[0m\n\u001b[0m\u001b[1;32m    531\u001b[0m \u001b[0;34m\u001b[0m\u001b[0m\n\u001b[1;32m    532\u001b[0m         \u001b[0;32mdef\u001b[0m \u001b[0mcompute_should_use_set_data\u001b[0m\u001b[0;34m(\u001b[0m\u001b[0mtensor\u001b[0m\u001b[0;34m,\u001b[0m \u001b[0mtensor_applied\u001b[0m\u001b[0;34m)\u001b[0m\u001b[0;34m:\u001b[0m\u001b[0;34m\u001b[0m\u001b[0;34m\u001b[0m\u001b[0m\n",
            "\u001b[0;32m/usr/local/lib/python3.7/dist-packages/torch/nn/modules/module.py\u001b[0m in \u001b[0;36m_apply\u001b[0;34m(self, fn)\u001b[0m\n\u001b[1;32m    528\u001b[0m     \u001b[0;32mdef\u001b[0m \u001b[0m_apply\u001b[0m\u001b[0;34m(\u001b[0m\u001b[0mself\u001b[0m\u001b[0;34m,\u001b[0m \u001b[0mfn\u001b[0m\u001b[0;34m)\u001b[0m\u001b[0;34m:\u001b[0m\u001b[0;34m\u001b[0m\u001b[0;34m\u001b[0m\u001b[0m\n\u001b[1;32m    529\u001b[0m         \u001b[0;32mfor\u001b[0m \u001b[0mmodule\u001b[0m \u001b[0;32min\u001b[0m \u001b[0mself\u001b[0m\u001b[0;34m.\u001b[0m\u001b[0mchildren\u001b[0m\u001b[0;34m(\u001b[0m\u001b[0;34m)\u001b[0m\u001b[0;34m:\u001b[0m\u001b[0;34m\u001b[0m\u001b[0;34m\u001b[0m\u001b[0m\n\u001b[0;32m--> 530\u001b[0;31m             \u001b[0mmodule\u001b[0m\u001b[0;34m.\u001b[0m\u001b[0m_apply\u001b[0m\u001b[0;34m(\u001b[0m\u001b[0mfn\u001b[0m\u001b[0;34m)\u001b[0m\u001b[0;34m\u001b[0m\u001b[0;34m\u001b[0m\u001b[0m\n\u001b[0m\u001b[1;32m    531\u001b[0m \u001b[0;34m\u001b[0m\u001b[0m\n\u001b[1;32m    532\u001b[0m         \u001b[0;32mdef\u001b[0m \u001b[0mcompute_should_use_set_data\u001b[0m\u001b[0;34m(\u001b[0m\u001b[0mtensor\u001b[0m\u001b[0;34m,\u001b[0m \u001b[0mtensor_applied\u001b[0m\u001b[0;34m)\u001b[0m\u001b[0;34m:\u001b[0m\u001b[0;34m\u001b[0m\u001b[0;34m\u001b[0m\u001b[0m\n",
            "\u001b[0;32m/usr/local/lib/python3.7/dist-packages/torch/nn/modules/module.py\u001b[0m in \u001b[0;36m_apply\u001b[0;34m(self, fn)\u001b[0m\n\u001b[1;32m    528\u001b[0m     \u001b[0;32mdef\u001b[0m \u001b[0m_apply\u001b[0m\u001b[0;34m(\u001b[0m\u001b[0mself\u001b[0m\u001b[0;34m,\u001b[0m \u001b[0mfn\u001b[0m\u001b[0;34m)\u001b[0m\u001b[0;34m:\u001b[0m\u001b[0;34m\u001b[0m\u001b[0;34m\u001b[0m\u001b[0m\n\u001b[1;32m    529\u001b[0m         \u001b[0;32mfor\u001b[0m \u001b[0mmodule\u001b[0m \u001b[0;32min\u001b[0m \u001b[0mself\u001b[0m\u001b[0;34m.\u001b[0m\u001b[0mchildren\u001b[0m\u001b[0;34m(\u001b[0m\u001b[0;34m)\u001b[0m\u001b[0;34m:\u001b[0m\u001b[0;34m\u001b[0m\u001b[0;34m\u001b[0m\u001b[0m\n\u001b[0;32m--> 530\u001b[0;31m             \u001b[0mmodule\u001b[0m\u001b[0;34m.\u001b[0m\u001b[0m_apply\u001b[0m\u001b[0;34m(\u001b[0m\u001b[0mfn\u001b[0m\u001b[0;34m)\u001b[0m\u001b[0;34m\u001b[0m\u001b[0;34m\u001b[0m\u001b[0m\n\u001b[0m\u001b[1;32m    531\u001b[0m \u001b[0;34m\u001b[0m\u001b[0m\n\u001b[1;32m    532\u001b[0m         \u001b[0;32mdef\u001b[0m \u001b[0mcompute_should_use_set_data\u001b[0m\u001b[0;34m(\u001b[0m\u001b[0mtensor\u001b[0m\u001b[0;34m,\u001b[0m \u001b[0mtensor_applied\u001b[0m\u001b[0;34m)\u001b[0m\u001b[0;34m:\u001b[0m\u001b[0;34m\u001b[0m\u001b[0;34m\u001b[0m\u001b[0m\n",
            "\u001b[0;32m/usr/local/lib/python3.7/dist-packages/torch/nn/modules/module.py\u001b[0m in \u001b[0;36m_apply\u001b[0;34m(self, fn)\u001b[0m\n\u001b[1;32m    550\u001b[0m                 \u001b[0;31m# `with torch.no_grad():`\u001b[0m\u001b[0;34m\u001b[0m\u001b[0;34m\u001b[0m\u001b[0;34m\u001b[0m\u001b[0m\n\u001b[1;32m    551\u001b[0m                 \u001b[0;32mwith\u001b[0m \u001b[0mtorch\u001b[0m\u001b[0;34m.\u001b[0m\u001b[0mno_grad\u001b[0m\u001b[0;34m(\u001b[0m\u001b[0;34m)\u001b[0m\u001b[0;34m:\u001b[0m\u001b[0;34m\u001b[0m\u001b[0;34m\u001b[0m\u001b[0m\n\u001b[0;32m--> 552\u001b[0;31m                     \u001b[0mparam_applied\u001b[0m \u001b[0;34m=\u001b[0m \u001b[0mfn\u001b[0m\u001b[0;34m(\u001b[0m\u001b[0mparam\u001b[0m\u001b[0;34m)\u001b[0m\u001b[0;34m\u001b[0m\u001b[0;34m\u001b[0m\u001b[0m\n\u001b[0m\u001b[1;32m    553\u001b[0m                 \u001b[0mshould_use_set_data\u001b[0m \u001b[0;34m=\u001b[0m \u001b[0mcompute_should_use_set_data\u001b[0m\u001b[0;34m(\u001b[0m\u001b[0mparam\u001b[0m\u001b[0;34m,\u001b[0m \u001b[0mparam_applied\u001b[0m\u001b[0;34m)\u001b[0m\u001b[0;34m\u001b[0m\u001b[0;34m\u001b[0m\u001b[0m\n\u001b[1;32m    554\u001b[0m                 \u001b[0;32mif\u001b[0m \u001b[0mshould_use_set_data\u001b[0m\u001b[0;34m:\u001b[0m\u001b[0;34m\u001b[0m\u001b[0;34m\u001b[0m\u001b[0m\n",
            "\u001b[0;32m/usr/local/lib/python3.7/dist-packages/torch/nn/modules/module.py\u001b[0m in \u001b[0;36mconvert\u001b[0;34m(t)\u001b[0m\n\u001b[1;32m    848\u001b[0m                 return t.to(device, dtype if t.is_floating_point() or t.is_complex() else None,\n\u001b[1;32m    849\u001b[0m                             non_blocking, memory_format=convert_to_format)\n\u001b[0;32m--> 850\u001b[0;31m             \u001b[0;32mreturn\u001b[0m \u001b[0mt\u001b[0m\u001b[0;34m.\u001b[0m\u001b[0mto\u001b[0m\u001b[0;34m(\u001b[0m\u001b[0mdevice\u001b[0m\u001b[0;34m,\u001b[0m \u001b[0mdtype\u001b[0m \u001b[0;32mif\u001b[0m \u001b[0mt\u001b[0m\u001b[0;34m.\u001b[0m\u001b[0mis_floating_point\u001b[0m\u001b[0;34m(\u001b[0m\u001b[0;34m)\u001b[0m \u001b[0;32mor\u001b[0m \u001b[0mt\u001b[0m\u001b[0;34m.\u001b[0m\u001b[0mis_complex\u001b[0m\u001b[0;34m(\u001b[0m\u001b[0;34m)\u001b[0m \u001b[0;32melse\u001b[0m \u001b[0;32mNone\u001b[0m\u001b[0;34m,\u001b[0m \u001b[0mnon_blocking\u001b[0m\u001b[0;34m)\u001b[0m\u001b[0;34m\u001b[0m\u001b[0;34m\u001b[0m\u001b[0m\n\u001b[0m\u001b[1;32m    851\u001b[0m \u001b[0;34m\u001b[0m\u001b[0m\n\u001b[1;32m    852\u001b[0m         \u001b[0;32mreturn\u001b[0m \u001b[0mself\u001b[0m\u001b[0;34m.\u001b[0m\u001b[0m_apply\u001b[0m\u001b[0;34m(\u001b[0m\u001b[0mconvert\u001b[0m\u001b[0;34m)\u001b[0m\u001b[0;34m\u001b[0m\u001b[0;34m\u001b[0m\u001b[0m\n",
            "\u001b[0;31mRuntimeError\u001b[0m: CUDA error: device-side assert triggered"
          ]
        }
      ]
    },
    {
      "cell_type": "code",
      "metadata": {
        "colab": {
          "base_uri": "https://localhost:8080/"
        },
        "id": "gxqdi5d1iM3w",
        "outputId": "b3ffd2c0-69a9-4f63-9a49-0f199d7fdd75"
      },
      "source": [
        "model = models.resnet34(pretrained=False)\n",
        "# model.fc = Linear(512,10)\n",
        "device = torch.device(\"cuda:0\" if torch.cuda.is_available() else \"cpu\")\n",
        "class mask_fc(nn.Module):\n",
        "    def __init__(self,fc,mask = torch.ones((512))):\n",
        "        super(mask_fc,self).__init__()\n",
        "        self.mask = mask.to(device)\n",
        "        self.fc = copy.deepcopy(fc)\n",
        "        \n",
        "    def forward(self,x):\n",
        "        return self.fc(self.mask*x)\n",
        "\n",
        "model.load_state_dict(torch.load('/content/gdrive/MyDrive/imagenet/saved_model/resnet34_attack.pt')) \n",
        "model1 = copy.deepcopy(model)\n",
        "model1.to(device)\n",
        "model.to(device)\n",
        "print('')"
      ],
      "execution_count": null,
      "outputs": [
        {
          "output_type": "stream",
          "name": "stdout",
          "text": [
            "\n"
          ]
        }
      ]
    },
    {
      "cell_type": "code",
      "metadata": {
        "colab": {
          "base_uri": "https://localhost:8080/"
        },
        "id": "MJKPJ-RNOBBf",
        "outputId": "230f2fa8-9c08-44f3-d0b2-aec332d86da8"
      },
      "source": [
        "!ls /content/gdrive/MyDrive/imagenet/saved_model/"
      ],
      "execution_count": null,
      "outputs": [
        {
          "output_type": "stream",
          "name": "stdout",
          "text": [
            "attk\t\t\t\t  latest_baseline_vgg16.pt\n",
            "best_resnet18.pt\t\t  latest_resnet18_custom_attention.pt\n",
            "custom_attention.pt\t\t  mlsp_adv_atk_alt1.pt\n",
            "custom_attn_multi_12M_noskip.pt   mlsp_adv_attk_alt_full_imgnet1.pt\n",
            "custom_attn_multi_18M_no_skip.pt  mlsp_adv_attk_alt_full_imgnet.pt\n",
            "custom_attn_multi_18M.pt\t  mlsp_adv_attk_alt.pt\n",
            "custom_attn_multi.pt\t\t  mlsp_gap_attack.pt\n",
            "custom_attn_skip_16M.pt\t\t  multi_3FC.pt\n",
            "custom_no_attn_multi_18M_skip.pt  pool_3FC_5x5.pt\n",
            "custom_noattn_noskip_16M.pt\t  pool_3FC.pt\n",
            "custom_no_attn_skip_16M.pt\t  resnet18_adv_attk_alt_full_imgnet.pt\n",
            "custom_only_att_3convfinal.pt\t  resnet18_adv_attk_alt.pt\n",
            "custom_only_att.pt\t\t  resnet18_adv_train.pt\n",
            "custom.pt\t\t\t  resnet18_final_custom_attention.pt\n",
            "custom_skip.pt\t\t\t  resnet34_adv_attk_alt_full_imgnet.pt\n",
            "custom_stepwise.pt\t\t  resnet34_attack.pt\n",
            "Fmodel_mlsp_adverserial.pt\t  resnet9_adv_attk_alt.pt\n",
            "Fmodel_mlsp_cnn_gap_attn.pt\t  resnet_attack_adverserial.pt\n",
            "InceptionV3.pt\t\t\t  resnet_attack.pt\n",
            "InceptionV3true.pt\n"
          ]
        }
      ]
    },
    {
      "cell_type": "code",
      "metadata": {
        "id": "S-mddqsDj8FA"
      },
      "source": [
        "import torchattacks\n",
        "\n",
        "def deepcloak(model,mask_sz):\n",
        "    global fea\n",
        "    mask = torch.zeros((mask_sz))\n",
        "    # mask.require_grad = False\n",
        "\n",
        "    # atk = torchattacks.PGD(model, eps=8/255, alpha=2/225, steps=7, random_start=True)\n",
        "    atk = torchattacks.FGSM(model, eps=8/255)\n",
        "    \n",
        "    for inputs,labels in train_loader:\n",
        "        inputs_adv = atk(inputs, labels)\n",
        "        inputs = inputs.to(device)\n",
        "        labels = labels.to(device)\n",
        "        \n",
        "        fea = []\n",
        "        model(inputs_adv)\n",
        "        feas_adv = fea[0]\n",
        "        model(inputs)\n",
        "        feas = fea[1]\n",
        "\n",
        "        mask += torch.abs(feas_adv-feas).sum(0).detach().cpu()\n",
        "\n",
        "    return mask\n"
      ],
      "execution_count": null,
      "outputs": []
    },
    {
      "cell_type": "code",
      "metadata": {
        "id": "HLgYrx22G-lN"
      },
      "source": [
        "fea = []\n",
        "# model.head.dense.register_forward_hook(lambda layer, inl, _,: fea.append(inl[0].detach()))\n",
        "# mask_sz = 960\n",
        "model.fc.register_forward_hook(lambda layer, inl, _,: fea.append(inl[0].detach()))\n",
        "mask_sz = 512\n",
        "mask = deepcloak(model,mask_sz)"
      ],
      "execution_count": null,
      "outputs": []
    },
    {
      "cell_type": "code",
      "metadata": {
        "id": "hfqzdXPdGCWO"
      },
      "source": [
        "percent = 0\n",
        "null_ind = torch.topk(mask,int(percent*mask_sz))[1]\n",
        "new_mask = torch.ones((mask_sz))\n",
        "new_mask[null_ind] = 0"
      ],
      "execution_count": null,
      "outputs": []
    },
    {
      "cell_type": "code",
      "metadata": {
        "id": "s-L7AhexBReJ"
      },
      "source": [
        "model.fc = mask_fc(model1.fc,mask = new_mask.to(device))"
      ],
      "execution_count": null,
      "outputs": []
    },
    {
      "cell_type": "code",
      "metadata": {
        "id": "rtq8CaryfuM0",
        "colab": {
          "base_uri": "https://localhost:8080/"
        },
        "outputId": "2cce53ba-b994-47e5-edef-c0d2462acabe"
      },
      "source": [
        "correct = 0 \n",
        "size = 0\n",
        "model.eval().cuda()\n",
        "\n",
        "with  torch.no_grad():\n",
        "    for inputs, labels in test_loader:\n",
        "        inputs, labels = inputs.to(device), labels.to(device)\n",
        "        # Make predictions.\n",
        "        prediction= model(inputs)\n",
        "        # prediction= model(inputs,new_mask.to(device))\n",
        "\n",
        "        # Retrieve predictions indexes.\n",
        "        _, predicted_class = torch.max(prediction.data, 1)\n",
        "\n",
        "        # Compute number of correct predictions.\n",
        "        correct += (predicted_class == labels).float().sum().item()\n",
        "        size+=len(prediction)\n",
        "test_accuracy = correct / size\n",
        "print('Test accuracy: {}'.format(test_accuracy))\n",
        "\n",
        "\n",
        "model.eval()\n",
        "atks = [\n",
        "    torchattacks.FGSM(model, eps=8/255),\n",
        "    torchattacks.PGD(model, eps=8/255, alpha=2/225, steps=7, random_start=True),\n",
        "]\n",
        "for i in [0,1]:\n",
        "    correct = 0\n",
        "    start = time.time()\n",
        "    size = 0\n",
        "    for images, labels in test_loader:   \n",
        "        adv_images = atks[i](images, labels)\n",
        "        labels = labels.to(device)\n",
        "        outputs = model(adv_images)\n",
        "        # outputs = model(adv_images,new_mask.to(device))\n",
        "        _, pre = torch.max(outputs.data, 1)\n",
        "        correct += (pre == labels).float().sum().item()\n",
        "        size+=len(labels)\n",
        "\n",
        "    # print('Total elapsed time (sec): %.2f' % (time.time() - start))\n",
        "    print('Robust accuracy: %.2f ' % (correct / size))\n"
      ],
      "execution_count": null,
      "outputs": [
        {
          "output_type": "stream",
          "name": "stdout",
          "text": [
            "Test accuracy: 0.4685\n",
            "Robust accuracy: 0.06 \n",
            "Robust accuracy: 0.00 \n"
          ]
        }
      ]
    },
    {
      "cell_type": "markdown",
      "metadata": {
        "id": "9DCe2Oqtf3yG"
      },
      "source": [
        "3 types of white box attack "
      ]
    },
    {
      "cell_type": "code",
      "metadata": {
        "id": "cwCwH1GNO3Ez"
      },
      "source": [
        "#torch.save(model.state_dict(),'/content/gdrive/MyDrive/imagenet/saved_model/Fmodel_mlsp_adverserial.pt' )"
      ],
      "execution_count": null,
      "outputs": []
    },
    {
      "cell_type": "code",
      "metadata": {
        "id": "gkIt_SxwhxCT"
      },
      "source": [
        "#torch.save(model.state_dict(),'/content/gdrive/MyDrive/imagenet/saved_model/Fmodel_mlsp_cnn_gap_attn.pt' )"
      ],
      "execution_count": null,
      "outputs": []
    },
    {
      "cell_type": "code",
      "metadata": {
        "id": "0F8lKpudxOrq",
        "colab": {
          "base_uri": "https://localhost:8080/"
        },
        "outputId": "bfba4be6-324b-40fe-aca8-b1398cbe66bb"
      },
      "source": [
        "#model = Fmodel('mlsp_gap')\n",
        "model = models.resnet18(pretrained=False)\n",
        "model.to(device)\n",
        "#model = torch.load('/content/gdrive/MyDrive/imagenet/saved_model/atk/resnet18_base.pt')\n",
        "model.load_state_dict(torch.load('/content/gdrive/MyDrive/imagenet/saved_model/attk/resnet18_base.pt'))\n",
        "#model.load_state_dict(torch.load('/content/gdrive/MyDrive/imagenet/saved_model/resnet_attack_adverserial.pt'))"
      ],
      "execution_count": null,
      "outputs": [
        {
          "output_type": "execute_result",
          "data": {
            "text/plain": [
              "<All keys matched successfully>"
            ]
          },
          "metadata": {},
          "execution_count": 193
        }
      ]
    },
    {
      "cell_type": "code",
      "metadata": {
        "colab": {
          "base_uri": "https://localhost:8080/"
        },
        "id": "DpA46uHUfgUp",
        "outputId": "423a60f1-4601-4555-d3a1-8e0707ff5083"
      },
      "source": [
        "!ls /content/gdrive/MyDrive/imagenet/saved_model/attk"
      ],
      "execution_count": null,
      "outputs": [
        {
          "output_type": "stream",
          "name": "stdout",
          "text": [
            "attk\t\t\t\t  Fmodel_mlsp_adverserial.pt\n",
            "best_resnet18.pt\t\t  Fmodel_mlsp_cnn_gap_attn.pt\n",
            "custom_attention.pt\t\t  InceptionV3.pt\n",
            "custom_attn_multi_12M_noskip.pt   InceptionV3true.pt\n",
            "custom_attn_multi_18M_no_skip.pt  latest_baseline_vgg16.pt\n",
            "custom_attn_multi_18M.pt\t  latest_resnet18_custom_attention.pt\n",
            "custom_attn_multi.pt\t\t  mlsp_gap_attack.pt\n",
            "custom_attn_skip_16M.pt\t\t  multi_3FC.pt\n",
            "custom_no_attn_multi_18M_skip.pt  pool_3FC_5x5.pt\n",
            "custom_noattn_noskip_16M.pt\t  pool_3FC.pt\n",
            "custom_no_attn_skip_16M.pt\t  resnet18_adv_train.pt\n",
            "custom_only_att_3convfinal.pt\t  resnet18_final_custom_attention.pt\n",
            "custom_only_att.pt\t\t  resnet34_attack.pt\n",
            "custom.pt\t\t\t  resnet_attack_adverserial.pt\n",
            "custom_skip.pt\t\t\t  resnet_attack.pt\n",
            "custom_stepwise.pt\n"
          ]
        }
      ]
    }
  ]
}